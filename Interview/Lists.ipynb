{
 "cells": [
  {
   "cell_type": "markdown",
   "metadata": {},
   "source": [
    "# LEETCODE Linked List Based Solutions \n"
   ]
  },
  {
   "cell_type": "markdown",
   "metadata": {},
   "source": [
    "# LeetCode Problem 2 - Medium(Easy)\n",
    "## 2. Add Two Numbers\n",
    "https://leetcode.com/problems/add-two-numbers/\n",
    "\n",
    "You are given two non-empty linked lists representing two non-negative integers. The digits are stored in reverse order and each of their nodes contain a single digit. Add the two numbers and return it as a linked list.\n",
    "\n",
    "You may assume the two numbers do not contain any leading zero, except the number 0 itself.\n",
    "\n",
    "## Example:\n",
    "Input: (2 -> 4 -> 3) + (5 -> 6 -> 4)\n",
    "Output: 7 -> 0 -> 8\n",
    "Explanation: 342 + 465 = 807."
   ]
  },
  {
   "cell_type": "code",
   "execution_count": 2,
   "metadata": {},
   "outputs": [],
   "source": [
    "# Definition for singly-linked list.\n",
    "class ListNode:\n",
    "    def __init__(self, x):\n",
    "        self.val = x\n",
    "        self.next = None\n",
    "    def printList(self):\n",
    "        temp = self\n",
    "        while(temp):\n",
    "            print(temp.val)\n",
    "            temp = temp.next\n",
    "\n",
    "class Solution:\n",
    "    def addTwoNumbers(self, l1: ListNode, l2: ListNode) -> ListNode:\n",
    "        head = l3 = ListNode(0)\n",
    "        carry = 0\n",
    "        \n",
    "        while(l1 and l2):\n",
    "            num = l1.val + l2.val +  carry\n",
    "            l3.next = ListNode(num % 10)\n",
    "            carry = num // 10\n",
    "            \n",
    "            l1 = l1.next\n",
    "            l2 = l2.next\n",
    "            l3 = l3.next\n",
    "        \n",
    "        while(l1):\n",
    "            num = l1.val + carry\n",
    "            l3.next = ListNode(num % 10)\n",
    "            carry = num // 10\n",
    "            \n",
    "            l1 = l1.next\n",
    "            l3 = l3.next\n",
    "        while(l2):\n",
    "            num = l2.val +  carry\n",
    "            l3.next = ListNode(num % 10)\n",
    "            carry = num // 10\n",
    "            \n",
    "            l2 = l2.next\n",
    "            l3 = l3.next\n",
    "        if (carry > 0):\n",
    "            l3.next = ListNode(carry)\n",
    "        \n",
    "        return head.next\n",
    "            "
   ]
  },
  {
   "cell_type": "code",
   "execution_count": 3,
   "metadata": {},
   "outputs": [],
   "source": [
    "#Unit Testing\n",
    "h1 = l1 = ListNode(0)\n",
    "h2 = l2=  ListNode(0)\n",
    "for i in range(2):\n",
    "    l1.next = ListNode(9)\n",
    "    l1 = l1.next   \n",
    "for i in range(3):\n",
    "    l1.next = ListNode(i)\n",
    "    l2.next = ListNode(i + 1)\n",
    "    l1 = l1.next\n",
    "    l2 = l2.next\n",
    "\n",
    "Sol = Solution()\n",
    "l3 = Sol.addTwoNumbers(h1.next, h2.next)\n",
    "#l3.printList()\n",
    "#print(\"L1 list is \")\n",
    "#h1.printList()\n"
   ]
  },
  {
   "cell_type": "code",
   "execution_count": null,
   "metadata": {},
   "outputs": [],
   "source": []
  },
  {
   "cell_type": "code",
   "execution_count": 25,
   "metadata": {},
   "outputs": [
    {
     "data": {
      "text/plain": [
       "dict"
      ]
     },
     "execution_count": 25,
     "metadata": {},
     "output_type": "execute_result"
    }
   ],
   "source": [
    "a = {\"c\":2, \"a\": 3}\n",
    "b = {\"a\":3, \"c\":1}\n",
    "type(a)"
   ]
  },
  {
   "cell_type": "code",
   "execution_count": 15,
   "metadata": {},
   "outputs": [
    {
     "name": "stdout",
     "output_type": "stream",
     "text": [
      "dict_keys(['c'])\n"
     ]
    }
   ],
   "source": [
    "print(a.keys())"
   ]
  },
  {
   "cell_type": "code",
   "execution_count": 22,
   "metadata": {},
   "outputs": [
    {
     "data": {
      "text/plain": [
       "True"
      ]
     },
     "execution_count": 22,
     "metadata": {},
     "output_type": "execute_result"
    }
   ],
   "source": [
    "\"c\" in a.keys()"
   ]
  },
  {
   "cell_type": "code",
   "execution_count": 26,
   "metadata": {},
   "outputs": [
    {
     "data": {
      "text/plain": [
       "False"
      ]
     },
     "execution_count": 26,
     "metadata": {},
     "output_type": "execute_result"
    }
   ],
   "source": [
    "a == b"
   ]
  },
  {
   "cell_type": "code",
   "execution_count": 29,
   "metadata": {},
   "outputs": [
    {
     "data": {
      "text/plain": [
       "dict_values([2, 3])"
      ]
     },
     "execution_count": 29,
     "metadata": {},
     "output_type": "execute_result"
    }
   ],
   "source": [
    "a.values()"
   ]
  },
  {
   "cell_type": "markdown",
   "metadata": {},
   "source": [
    "# 242 - Valid Anagram (Easy)\n",
    "## Given two strings s and t , write a function to determine if t is an anagram of s.\n",
    "https://leetcode.com/problems/valid-anagram/\n",
    "## Example 1:\n",
    "\n",
    "Input: s = \"anagram\", t = \"nagaram\"\n",
    "Output: true\n",
    "Example 2:\n",
    "\n",
    "Input: s = \"rat\", t = \"car\"\n",
    "Output: false\n",
    "Note:\n",
    "You may assume the string contains only lowercase alphabets.\n",
    "\n",
    "## Follow up:\n",
    "What if the inputs contain unicode characters? How would you adapt your solution to such case?"
   ]
  },
  {
   "cell_type": "code",
   "execution_count": 30,
   "metadata": {},
   "outputs": [],
   "source": [
    "class Solution:\n",
    "    def isAnagram(self, s: str, t: str) -> bool:\n",
    "        letterFrequency1 = {}\n",
    "        letterFrequency2 = {} # For getting frequency of each letter in the string\n",
    "        \n",
    "        for i in range(len(s)):\n",
    "            if s[i] in letterFrequency1.keys():\n",
    "                letterFrequency1[s[i]]  += 1\n",
    "            else:\n",
    "                letterFrequency1[s[i]] = 1\n",
    "        for i in range(len(t)):\n",
    "            if t[i] in letterFrequency2.keys():\n",
    "                letterFrequency2[t[i]]  +=1\n",
    "            else:\n",
    "                letterFrequency2[t[i]]  = 1\n",
    "        return letterFrequency1 == letterFrequency2\n",
    "                "
   ]
  },
  {
   "cell_type": "code",
   "execution_count": 39,
   "metadata": {},
   "outputs": [
    {
     "name": "stdout",
     "output_type": "stream",
     "text": [
      "using counter\n",
      "True\n",
      "using counter\n",
      "False\n",
      "using counter\n",
      "True\n"
     ]
    }
   ],
   "source": [
    "# Unit testing\n",
    "sol = Solution()\n",
    "s = \"Lokesh\"\n",
    "t = \"hseLok\"\n",
    "print(sol.isAnagram(s,t))\n",
    "\n",
    "s = \"Lokesh\"\n",
    "t = \"hseLok1\"\n",
    "print(sol.isAnagram(s,t))\n",
    "\n",
    "s = \"\"\n",
    "t = \"\"\n",
    "print(sol.isAnagram(s,t))"
   ]
  },
  {
   "cell_type": "code",
   "execution_count": 38,
   "metadata": {},
   "outputs": [],
   "source": [
    "# Another Solution Using Collections\n",
    "\n",
    "from collections import Counter\n",
    "class Solution:\n",
    "    def isAnagram(self, s: str, t: str) -> bool:\n",
    "        print(\"using counter\")\n",
    "        return Counter(s) == Counter(t)\n",
    "      \n",
    "                "
   ]
  },
  {
   "cell_type": "markdown",
   "metadata": {},
   "source": [
    "# 7- Reverse the integer\n",
    "https://leetcode.com/problems/reverse-integer/\n",
    "\n",
    "Given a 32-bit signed integer, reverse digits of an integer.\n",
    "\n",
    "## Example 1:\n",
    "\n",
    "Input: 123\n",
    "Output: 321\n",
    "## Example 2:\n",
    "\n",
    "Input: -123\n",
    "Output: -321\n",
    "## Example 3:\n",
    "\n",
    "Input: 120\n",
    "Output: 21\n",
    "\n",
    "Note:\n",
    "Assume we are dealing with an environment which could only store integers within the 32-bit signed integer range: [−2^31,  2^31 − 1]. For the purpose of this problem, assume that your function returns 0 when the reversed integer overflows."
   ]
  },
  {
   "cell_type": "code",
   "execution_count": 50,
   "metadata": {},
   "outputs": [],
   "source": [
    "class Solution:\n",
    "    def reverse(self, x: int) -> int:\n",
    "        print(\"In improved version\")\n",
    "        if x >= 0:\n",
    "            temp = x\n",
    "        else:\n",
    "            temp = -x\n",
    "        r = 0\n",
    "        rev =  0\n",
    "        while(temp):\n",
    "            r = temp % 10\n",
    "            rev = rev * 10 + r\n",
    "            temp = temp // 10 \n",
    "        if x >= 0:\n",
    "            if(rev < 2**31):\n",
    "                return rev\n",
    "            else:\n",
    "                return 0\n",
    "        else:\n",
    "            if(rev <= 2 **31):\n",
    "                return -rev\n",
    "            else:\n",
    "                return 0"
   ]
  },
  {
   "cell_type": "code",
   "execution_count": 57,
   "metadata": {},
   "outputs": [],
   "source": [
    "#unit testing\n",
    "sol = Solution()\n",
    "print(sol.reverse(-10300000000001))"
   ]
  },
  {
   "cell_type": "code",
   "execution_count": 56,
   "metadata": {},
   "outputs": [
    {
     "name": "stdout",
     "output_type": "stream",
     "text": [
      "In improved version\n",
      "0\n"
     ]
    }
   ],
   "source": [
    "print(sol.reverse(-10300000000001))"
   ]
  },
  {
   "cell_type": "code",
   "execution_count": 55,
   "metadata": {},
   "outputs": [],
   "source": [
    "#Improved Version\n",
    "class Solution:\n",
    "    def reverse(self, x: int) -> int:\n",
    "        if x >= 0:\n",
    "            temp = x\n",
    "        else:\n",
    "            temp = -x\n",
    "        r = 0\n",
    "        rev =  0\n",
    "        while(temp):\n",
    "            r = temp % 10\n",
    "            rev = rev * 10 + r\n",
    "            temp = temp // 10 \n",
    "        if x >= 0:\n",
    "            return (rev < 2**31) * rev\n",
    "        else:\n",
    "            return -1 * (rev <= 2 **31) * rev\n",
    "              "
   ]
  },
  {
   "cell_type": "code",
   "execution_count": 4,
   "metadata": {},
   "outputs": [
    {
     "data": {
      "text/plain": [
       "99"
      ]
     },
     "execution_count": 4,
     "metadata": {},
     "output_type": "execute_result"
    }
   ],
   "source": [
    "str = \"c\"\n",
    "ord(str)"
   ]
  },
  {
   "cell_type": "code",
   "execution_count": 6,
   "metadata": {},
   "outputs": [],
   "source": [
    "list_a= [\"a\", \"b\", \"c\"]"
   ]
  },
  {
   "cell_type": "code",
   "execution_count": 11,
   "metadata": {},
   "outputs": [
    {
     "name": "stdout",
     "output_type": "stream",
     "text": [
      "97\n",
      "98\n",
      "99\n"
     ]
    }
   ],
   "source": [
    "for a in list_a:\n",
    "    print(ord(a))"
   ]
  },
  {
   "cell_type": "markdown",
   "metadata": {},
   "source": [
    "# 744. Find Smallest Letter Greater Than Target\n",
    "\n",
    "https://leetcode.com/problems/find-smallest-letter-greater-than-target/\n",
    "\n",
    "Given a list of sorted characters letters containing only lowercase letters, and given a target letter target, find the smallest element in the list that is larger than the given target.\n",
    "\n",
    "Letters also wrap around. For example, if the target is target = 'z' and letters = ['a', 'b'], the answer is 'a'.\n",
    "\n",
    "## Examples:\n",
    "Input:\n",
    "letters = [\"c\", \"f\", \"j\"]\n",
    "target = \"a\"\n",
    "Output: \"c\"\n",
    "\n",
    "Input:\n",
    "letters = [\"c\", \"f\", \"j\"]\n",
    "target = \"c\"\n",
    "Output: \"f\"\n",
    "\n",
    "Input:\n",
    "letters = [\"c\", \"f\", \"j\"]\n",
    "target = \"d\"\n",
    "Output: \"f\"\n",
    "\n",
    "Input:\n",
    "letters = [\"c\", \"f\", \"j\"]\n",
    "target = \"g\"\n",
    "Output: \"j\"\n",
    "\n",
    "Input:\n",
    "letters = [\"c\", \"f\", \"j\"]\n",
    "target = \"j\"\n",
    "Output: \"c\"\n",
    "\n",
    "Input:\n",
    "letters = [\"c\", \"f\", \"j\"]\n",
    "target = \"k\"\n",
    "Output: \"c\"\n",
    "\n",
    "Note:\n",
    "\n",
    "1. letters has a length in range [2, 10000].\n",
    "2. letters consists of lowercase letters, and contains at least 2 unique letters.\n",
    "3. target is a lowercase letter.\n"
   ]
  },
  {
   "cell_type": "code",
   "execution_count": 12,
   "metadata": {},
   "outputs": [
    {
     "ename": "NameError",
     "evalue": "name 'List' is not defined",
     "output_type": "error",
     "traceback": [
      "\u001b[0;31m---------------------------------------------------------------------------\u001b[0m",
      "\u001b[0;31mNameError\u001b[0m                                 Traceback (most recent call last)",
      "\u001b[0;32m<ipython-input-12-f82bcacbbe26>\u001b[0m in \u001b[0;36m<module>\u001b[0;34m\u001b[0m\n\u001b[0;32m----> 1\u001b[0;31m \u001b[0;32mclass\u001b[0m \u001b[0mSolution\u001b[0m\u001b[0;34m:\u001b[0m\u001b[0;34m\u001b[0m\u001b[0;34m\u001b[0m\u001b[0m\n\u001b[0m\u001b[1;32m      2\u001b[0m     \u001b[0;32mdef\u001b[0m \u001b[0mnextGreatestLetter\u001b[0m\u001b[0;34m(\u001b[0m\u001b[0mself\u001b[0m\u001b[0;34m,\u001b[0m \u001b[0mletters\u001b[0m\u001b[0;34m:\u001b[0m \u001b[0mList\u001b[0m\u001b[0;34m[\u001b[0m\u001b[0mstr\u001b[0m\u001b[0;34m]\u001b[0m\u001b[0;34m,\u001b[0m \u001b[0mtarget\u001b[0m\u001b[0;34m:\u001b[0m \u001b[0mstr\u001b[0m\u001b[0;34m)\u001b[0m \u001b[0;34m->\u001b[0m \u001b[0mstr\u001b[0m\u001b[0;34m:\u001b[0m\u001b[0;34m\u001b[0m\u001b[0;34m\u001b[0m\u001b[0m\n\u001b[1;32m      3\u001b[0m         \u001b[0mlow\u001b[0m \u001b[0;34m=\u001b[0m \u001b[0;36m0\u001b[0m\u001b[0;34m\u001b[0m\u001b[0;34m\u001b[0m\u001b[0m\n\u001b[1;32m      4\u001b[0m         \u001b[0mhigh\u001b[0m \u001b[0;34m=\u001b[0m \u001b[0mlen\u001b[0m\u001b[0;34m(\u001b[0m\u001b[0mletters\u001b[0m\u001b[0;34m)\u001b[0m \u001b[0;34m-\u001b[0m \u001b[0;36m1\u001b[0m\u001b[0;34m\u001b[0m\u001b[0;34m\u001b[0m\u001b[0m\n\u001b[1;32m      5\u001b[0m \u001b[0;34m\u001b[0m\u001b[0m\n",
      "\u001b[0;32m<ipython-input-12-f82bcacbbe26>\u001b[0m in \u001b[0;36mSolution\u001b[0;34m()\u001b[0m\n\u001b[1;32m      1\u001b[0m \u001b[0;32mclass\u001b[0m \u001b[0mSolution\u001b[0m\u001b[0;34m:\u001b[0m\u001b[0;34m\u001b[0m\u001b[0;34m\u001b[0m\u001b[0m\n\u001b[0;32m----> 2\u001b[0;31m     \u001b[0;32mdef\u001b[0m \u001b[0mnextGreatestLetter\u001b[0m\u001b[0;34m(\u001b[0m\u001b[0mself\u001b[0m\u001b[0;34m,\u001b[0m \u001b[0mletters\u001b[0m\u001b[0;34m:\u001b[0m \u001b[0mList\u001b[0m\u001b[0;34m[\u001b[0m\u001b[0mstr\u001b[0m\u001b[0;34m]\u001b[0m\u001b[0;34m,\u001b[0m \u001b[0mtarget\u001b[0m\u001b[0;34m:\u001b[0m \u001b[0mstr\u001b[0m\u001b[0;34m)\u001b[0m \u001b[0;34m->\u001b[0m \u001b[0mstr\u001b[0m\u001b[0;34m:\u001b[0m\u001b[0;34m\u001b[0m\u001b[0;34m\u001b[0m\u001b[0m\n\u001b[0m\u001b[1;32m      3\u001b[0m         \u001b[0mlow\u001b[0m \u001b[0;34m=\u001b[0m \u001b[0;36m0\u001b[0m\u001b[0;34m\u001b[0m\u001b[0;34m\u001b[0m\u001b[0m\n\u001b[1;32m      4\u001b[0m         \u001b[0mhigh\u001b[0m \u001b[0;34m=\u001b[0m \u001b[0mlen\u001b[0m\u001b[0;34m(\u001b[0m\u001b[0mletters\u001b[0m\u001b[0;34m)\u001b[0m \u001b[0;34m-\u001b[0m \u001b[0;36m1\u001b[0m\u001b[0;34m\u001b[0m\u001b[0;34m\u001b[0m\u001b[0m\n\u001b[1;32m      5\u001b[0m \u001b[0;34m\u001b[0m\u001b[0m\n",
      "\u001b[0;31mNameError\u001b[0m: name 'List' is not defined"
     ]
    }
   ],
   "source": [
    "class Solution:\n",
    "    def nextGreatestLetter(self, letters: List[str], target: str) -> str:\n",
    "        low = 0\n",
    "        high = len(letters) - 1\n",
    "        \n",
    "        while (low <= high):\n",
    "            mid = (high + low) // 2\n",
    "            midNext = (mid + 1) % len(letters)\n",
    "            if(letters[mid] <= target and target < letters[midNext]):\n",
    "                return letters[midNext]\n",
    "            elif (letters[mid] <= target):\n",
    "                low = mid + 1\n",
    "            else:\n",
    "                high = mid - 1\n",
    "        \n",
    "        return letters[0]"
   ]
  },
  {
   "cell_type": "code",
   "execution_count": 3,
   "metadata": {},
   "outputs": [],
   "source": [
    "# Not accepted because of its complexity // Fix and brute force it is \n",
    "class Solution:\n",
    "    def trailingZeroes(self, n: int) -> int:\n",
    "        numOfZeros = 0\n",
    "        \n",
    "        for i in range(1,n+1):\n",
    "            powerOfFive = 5\n",
    "            while(powerOfFive <= n and (i % powerOfFive == 0)):\n",
    "                    numOfZeros += 1\n",
    "                    powerOfFive *= 5\n",
    "        return numOfZeros"
   ]
  },
  {
   "cell_type": "markdown",
   "metadata": {},
   "source": [
    "# 172. Factorial Trailing Zeroes\n",
    "https://leetcode.com/problems/factorial-trailing-zeroes/\n",
    "\n",
    "Given an integer n, return the number of trailing zeroes in n!.\n",
    "\n",
    "## Example 1:\n",
    "\n",
    "Input: 3\n",
    "Output: 0\n",
    "Explanation: 3! = 6, no trailing zero.\n",
    "## Example 2:\n",
    "\n",
    "Input: 5\n",
    "Output: 1\n",
    "Explanation: 5! = 120, one trailing zero.\n",
    "\n",
    "Note: Your solution should be in logarithmic time complexity."
   ]
  },
  {
   "cell_type": "code",
   "execution_count": 4,
   "metadata": {},
   "outputs": [],
   "source": [
    "# Correct Answer // In log(n) time complexity\n",
    "class Solution:\n",
    "    def trailingZeroes(self, n: int) -> int:\n",
    "        numOfZeros = 0\n",
    "        powOfFive = 5\n",
    "        \n",
    "        while(powOfFive <= n):\n",
    "            numOfZeros += n // powOfFive\n",
    "            powOfFive *= 5\n",
    "        return numOfZeros"
   ]
  },
  {
   "cell_type": "code",
   "execution_count": 8,
   "metadata": {},
   "outputs": [
    {
     "data": {
      "text/plain": [
       "12"
      ]
     },
     "execution_count": 8,
     "metadata": {},
     "output_type": "execute_result"
    }
   ],
   "source": [
    "#unit testing\n",
    "sol = Solution()\n",
    "sol.trailingZeroes(50)"
   ]
  },
  {
   "cell_type": "markdown",
   "metadata": {},
   "source": [
    "# 18. 4Sum - Medium\n",
    "\n",
    "https://leetcode.com/problems/4sum/\n",
    "    \n",
    "Given an array nums of n integers and an integer target, are there elements a, b, c, and d in nums such that a + b + c + d = target? Find all unique quadruplets in the array which gives the sum of target.\n",
    "\n",
    "## Note:\n",
    "\n",
    "The solution set must not contain duplicate quadruplets.\n",
    "\n",
    "## Example:\n",
    "\n",
    "Given array nums = [1, 0, -1, 0, -2, 2], and target = 0.\n",
    "\n",
    "A solution set is:\n",
    "[\n",
    "  [-1,  0, 0, 1],\n",
    "  [-2, -1, 1, 2],\n",
    "  [-2,  0, 0, 2]\n",
    "]"
   ]
  },
  {
   "cell_type": "code",
   "execution_count": null,
   "metadata": {},
   "outputs": [],
   "source": [
    "#Not a very Optimal Solution!!!!!!!!!!!!!!! \n",
    "#Try better Solution in one sweep\n",
    "\n",
    "class Solution:\n",
    "    def fourSum(self, nums: List[int], target: int) -> List[List[int]]:\n",
    "        nums_len = len(nums)\n",
    "        nums.sort()\n",
    "        if(nums_len < 4):\n",
    "            return []\n",
    "        fourSumSet = set()\n",
    "        threeSumSet = set()\n",
    "        for i, elem in enumerate(nums[:-3]):\n",
    "            threeSumSet = self.threeSum( nums[i+1:], target - elem)\n",
    "            for elem1 in threeSumSet:\n",
    "                elem1 = list(elem1)\n",
    "                elem1.append(elem)\n",
    "                fourSumSet.add(tuple(elem1))\n",
    "        return fourSumSet\n",
    "    \n",
    "    def threeSum(self, nums, target):\n",
    "        Set = set()\n",
    "        for i, element in enumerate(nums[:-2]):\n",
    "            left = i+1\n",
    "            right = len(nums) - 1\n",
    "            while(left != right):\n",
    "                if(element + nums[left] + nums[right] == target):\n",
    "                    Set.add((element, nums[left], nums[right]))\n",
    "                    left = left + 1\n",
    "                    rigt = right - 1\n",
    "                elif(element + nums[left] + nums[right] > target):\n",
    "                    right -= 1\n",
    "                elif(element + nums[left] + nums[right] < target):\n",
    "                    left += 1       \n",
    "        return Set"
   ]
  },
  {
   "cell_type": "markdown",
   "metadata": {},
   "source": [
    "# 21. Merge Two Sorted Lists (Easy)\n",
    "https://leetcode.com/problems/merge-two-sorted-lists/submissions/\n",
    "\n",
    "\n",
    "Merge two sorted linked lists and return it as a new list. The new list should be made by splicing together the nodes of the first two lists.\n",
    "\n",
    "## Example:\n",
    "\n",
    "Input: 1->2->4, 1->3->4\n",
    "Output: 1->1->2->3->4->4\n"
   ]
  },
  {
   "cell_type": "code",
   "execution_count": 2,
   "metadata": {},
   "outputs": [],
   "source": [
    "#Definition for singly-linked list.\n",
    "class ListNode:\n",
    "    def __init__(self, x):\n",
    "        self.val = x\n",
    "        self.next = None\n",
    "\n",
    "class Solution:\n",
    "    def mergeTwoLists(self, l1: ListNode, l2: ListNode) -> ListNode:\n",
    "        temp1 = l1\n",
    "        temp2 = l2\n",
    "        l3 = ListNode(0)\n",
    "        temp3 = l3\n",
    "        while(temp1 or temp2):\n",
    "            if (temp1 and temp2):\n",
    "                if(temp1.val < temp2.val):\n",
    "                    temp3.next = ListNode(temp1.val)\n",
    "                    temp1 = temp1.next\n",
    "                else:\n",
    "                    temp3.next = ListNode(temp2.val)\n",
    "                    temp2 = temp2.next\n",
    "            elif(temp1):\n",
    "                temp3.next = ListNode(temp1.val)\n",
    "                temp1 = temp1.next\n",
    "            elif(temp2):\n",
    "                temp3.next = ListNode(temp2.val)\n",
    "                temp2 = temp2.next\n",
    "            temp3 = temp3.next\n",
    "                \n",
    "        return l3.next"
   ]
  },
  {
   "cell_type": "markdown",
   "metadata": {},
   "source": [
    "#### Efficient algorithm is there using keeping bookkeeping\n",
    "https://leetcode.com/problems/merge-two-sorted-lists/discuss/458763/Python3-97.74-(28-ms)100.00-(12.7-MB)-O(n)"
   ]
  },
  {
   "cell_type": "code",
   "execution_count": null,
   "metadata": {},
   "outputs": [],
   "source": []
  },
  {
   "cell_type": "markdown",
   "metadata": {},
   "source": [
    "# 88. Merge Sorted Array (Easy)\n",
    "https://leetcode.com/problems/merge-sorted-array/\n",
    "Given two sorted integer arrays nums1 and nums2, merge nums2 into nums1 as one sorted array.\n",
    "\n",
    "## Note:\n",
    "\n",
    "The number of elements initialized in nums1 and nums2 are m and n respectively.\n",
    "You may assume that nums1 has enough space (size that is greater or equal to m + n) to hold additional elements from nums2.\n",
    "## Example:\n",
    "\n",
    "Input:\n",
    "nums1 = [1,2,3,0,0,0], m = 3\n",
    "nums2 = [2,5,6],       n = 3\n",
    "\n",
    "Output: [1,2,2,3,5,6]"
   ]
  },
  {
   "cell_type": "code",
   "execution_count": 2,
   "metadata": {},
   "outputs": [
    {
     "ename": "NameError",
     "evalue": "name 'List' is not defined",
     "output_type": "error",
     "traceback": [
      "\u001b[0;31m---------------------------------------------------------------------------\u001b[0m",
      "\u001b[0;31mNameError\u001b[0m                                 Traceback (most recent call last)",
      "\u001b[0;32m<ipython-input-2-9e40bd0b756d>\u001b[0m in \u001b[0;36m<module>\u001b[0;34m\u001b[0m\n\u001b[0;32m----> 1\u001b[0;31m \u001b[0;32mclass\u001b[0m \u001b[0mSolution\u001b[0m\u001b[0;34m:\u001b[0m\u001b[0;34m\u001b[0m\u001b[0;34m\u001b[0m\u001b[0m\n\u001b[0m\u001b[1;32m      2\u001b[0m     \u001b[0;32mdef\u001b[0m \u001b[0mmerge\u001b[0m\u001b[0;34m(\u001b[0m\u001b[0mself\u001b[0m\u001b[0;34m,\u001b[0m \u001b[0mnums1\u001b[0m\u001b[0;34m:\u001b[0m \u001b[0mList\u001b[0m\u001b[0;34m[\u001b[0m\u001b[0mint\u001b[0m\u001b[0;34m]\u001b[0m\u001b[0;34m,\u001b[0m \u001b[0mm\u001b[0m\u001b[0;34m:\u001b[0m \u001b[0mint\u001b[0m\u001b[0;34m,\u001b[0m \u001b[0mnums2\u001b[0m\u001b[0;34m:\u001b[0m \u001b[0mList\u001b[0m\u001b[0;34m[\u001b[0m\u001b[0mint\u001b[0m\u001b[0;34m]\u001b[0m\u001b[0;34m,\u001b[0m \u001b[0mn\u001b[0m\u001b[0;34m:\u001b[0m \u001b[0mint\u001b[0m\u001b[0;34m)\u001b[0m \u001b[0;34m->\u001b[0m \u001b[0;32mNone\u001b[0m\u001b[0;34m:\u001b[0m\u001b[0;34m\u001b[0m\u001b[0;34m\u001b[0m\u001b[0m\n\u001b[1;32m      3\u001b[0m         \"\"\"\n\u001b[1;32m      4\u001b[0m         \u001b[0mDo\u001b[0m \u001b[0;32mnot\u001b[0m \u001b[0;32mreturn\u001b[0m \u001b[0manything\u001b[0m\u001b[0;34m,\u001b[0m \u001b[0mmodify\u001b[0m \u001b[0mnums1\u001b[0m \u001b[0;32min\u001b[0m\u001b[0;34m-\u001b[0m\u001b[0mplace\u001b[0m \u001b[0minstead\u001b[0m\u001b[0;34m.\u001b[0m\u001b[0;34m\u001b[0m\u001b[0;34m\u001b[0m\u001b[0m\n\u001b[1;32m      5\u001b[0m         \"\"\"\n",
      "\u001b[0;32m<ipython-input-2-9e40bd0b756d>\u001b[0m in \u001b[0;36mSolution\u001b[0;34m()\u001b[0m\n\u001b[1;32m      1\u001b[0m \u001b[0;32mclass\u001b[0m \u001b[0mSolution\u001b[0m\u001b[0;34m:\u001b[0m\u001b[0;34m\u001b[0m\u001b[0;34m\u001b[0m\u001b[0m\n\u001b[0;32m----> 2\u001b[0;31m     \u001b[0;32mdef\u001b[0m \u001b[0mmerge\u001b[0m\u001b[0;34m(\u001b[0m\u001b[0mself\u001b[0m\u001b[0;34m,\u001b[0m \u001b[0mnums1\u001b[0m\u001b[0;34m:\u001b[0m \u001b[0mList\u001b[0m\u001b[0;34m[\u001b[0m\u001b[0mint\u001b[0m\u001b[0;34m]\u001b[0m\u001b[0;34m,\u001b[0m \u001b[0mm\u001b[0m\u001b[0;34m:\u001b[0m \u001b[0mint\u001b[0m\u001b[0;34m,\u001b[0m \u001b[0mnums2\u001b[0m\u001b[0;34m:\u001b[0m \u001b[0mList\u001b[0m\u001b[0;34m[\u001b[0m\u001b[0mint\u001b[0m\u001b[0;34m]\u001b[0m\u001b[0;34m,\u001b[0m \u001b[0mn\u001b[0m\u001b[0;34m:\u001b[0m \u001b[0mint\u001b[0m\u001b[0;34m)\u001b[0m \u001b[0;34m->\u001b[0m \u001b[0;32mNone\u001b[0m\u001b[0;34m:\u001b[0m\u001b[0;34m\u001b[0m\u001b[0;34m\u001b[0m\u001b[0m\n\u001b[0m\u001b[1;32m      3\u001b[0m         \"\"\"\n\u001b[1;32m      4\u001b[0m         \u001b[0mDo\u001b[0m \u001b[0;32mnot\u001b[0m \u001b[0;32mreturn\u001b[0m \u001b[0manything\u001b[0m\u001b[0;34m,\u001b[0m \u001b[0mmodify\u001b[0m \u001b[0mnums1\u001b[0m \u001b[0;32min\u001b[0m\u001b[0;34m-\u001b[0m\u001b[0mplace\u001b[0m \u001b[0minstead\u001b[0m\u001b[0;34m.\u001b[0m\u001b[0;34m\u001b[0m\u001b[0;34m\u001b[0m\u001b[0m\n\u001b[1;32m      5\u001b[0m         \"\"\"\n",
      "\u001b[0;31mNameError\u001b[0m: name 'List' is not defined"
     ]
    }
   ],
   "source": [
    "class Solution:\n",
    "    def merge(self, nums1: List[int], m: int, nums2: List[int], n: int) -> None:\n",
    "        \"\"\"\n",
    "        Do not return anything, modify nums1 in-place instead.\n",
    "        \"\"\"\n",
    "        i = m + n - 1\n",
    "        j = m - 1\n",
    "        k = n - 1\n",
    "        while(j>=0 and k>=0):\n",
    "            if(nums1[j] > nums2[k]):\n",
    "                nums1[i] = nums1[j]\n",
    "                j -= 1\n",
    "            else:\n",
    "                nums1[i] = nums2[k]\n",
    "                k -= 1\n",
    "            i -= 1\n",
    "        while(j >=0):\n",
    "            nums1[i] = nums1[j]\n",
    "            i -= 1\n",
    "            j -= 1\n",
    "        while(k >= 0 ):\n",
    "            nums1[i] = nums2[k]\n",
    "            k -= 1\n",
    "            i -= 1\n",
    "            "
   ]
  },
  {
   "cell_type": "markdown",
   "metadata": {},
   "source": [
    "# 20. Valid Parentheses (Easy)\n",
    "https://leetcode.com/problems/valid-parentheses/\n",
    "    \n",
    "Given a string containing just the characters '(', ')', '{', '}', '[' and ']', determine if the input string is valid.\n",
    "\n",
    "An input string is valid if:\n",
    "\n",
    "Open brackets must be closed by the same type of brackets.\n",
    "Open brackets must be closed in the correct order.\n",
    "Note that an empty string is also considered valid.\n",
    "\n",
    "## Example 1:\n",
    "\n",
    "Input: \"()\"\n",
    "Output: true\n",
    "## Example 2:\n",
    "\n",
    "Input: \"()[]{}\"\n",
    "Output: true\n",
    "## Example 3:\n",
    "\n",
    "Input: \"(]\"\n",
    "Output: false\n",
    "## Example 4:\n",
    "\n",
    "Input: \"([)]\"\n",
    "Output: false\n",
    "## Example 5:\n",
    "\n",
    "Input: \"{[]}\"\n",
    "Output: true\n"
   ]
  },
  {
   "cell_type": "code",
   "execution_count": 1,
   "metadata": {},
   "outputs": [],
   "source": [
    "def isValid(self, s: str) -> bool:\n",
    "        stack = []\n",
    "        open_p = ['{','[','(']\n",
    "        closed_p = ['}',']',')']\n",
    "        \n",
    "        for elem in s:\n",
    "            if elem in open_p:\n",
    "                stack.append(elem)\n",
    "            else:\n",
    "                if( len(stack) == 0 ):\n",
    "                    return False\n",
    "                popped = stack.pop()\n",
    "                if(open_p.index(popped) != closed_p.index(elem)):\n",
    "                    return False\n",
    "        return not len(stack)"
   ]
  },
  {
   "cell_type": "code",
   "execution_count": null,
   "metadata": {},
   "outputs": [],
   "source": []
  },
  {
   "cell_type": "code",
   "execution_count": null,
   "metadata": {},
   "outputs": [],
   "source": []
  }
 ],
 "metadata": {
  "kernelspec": {
   "display_name": "Python 3",
   "language": "python",
   "name": "python3"
  },
  "language_info": {
   "codemirror_mode": {
    "name": "ipython",
    "version": 3
   },
   "file_extension": ".py",
   "mimetype": "text/x-python",
   "name": "python",
   "nbconvert_exporter": "python",
   "pygments_lexer": "ipython3",
   "version": "3.7.4"
  }
 },
 "nbformat": 4,
 "nbformat_minor": 2
}
