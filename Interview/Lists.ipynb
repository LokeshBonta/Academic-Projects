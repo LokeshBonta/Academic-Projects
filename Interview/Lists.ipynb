{
 "cells": [
  {
   "cell_type": "markdown",
   "metadata": {},
   "source": [
    "# LEETCODE Linked List Based Solutions "
   ]
  },
  {
   "cell_type": "markdown",
   "metadata": {},
   "source": [
    "# LeetCode Problem 2 - Medium(Easy)\n",
    "## 2. Add Two Numbers\n",
    "https://leetcode.com/problems/add-two-numbers/\n",
    "\n",
    "You are given two non-empty linked lists representing two non-negative integers. The digits are stored in reverse order and each of their nodes contain a single digit. Add the two numbers and return it as a linked list.\n",
    "\n",
    "You may assume the two numbers do not contain any leading zero, except the number 0 itself.\n",
    "\n",
    "## Example:\n",
    "Input: (2 -> 4 -> 3) + (5 -> 6 -> 4)\n",
    "Output: 7 -> 0 -> 8\n",
    "Explanation: 342 + 465 = 807."
   ]
  },
  {
   "cell_type": "code",
   "execution_count": 2,
   "metadata": {},
   "outputs": [],
   "source": [
    "# Definition for singly-linked list.\n",
    "class ListNode:\n",
    "    def __init__(self, x):\n",
    "        self.val = x\n",
    "        self.next = None\n",
    "    def printList(self):\n",
    "        temp = self\n",
    "        while(temp):\n",
    "            print(temp.val)\n",
    "            temp = temp.next\n",
    "\n",
    "class Solution:\n",
    "    def addTwoNumbers(self, l1: ListNode, l2: ListNode) -> ListNode:\n",
    "        head = l3 = ListNode(0)\n",
    "        carry = 0\n",
    "        \n",
    "        while(l1 and l2):\n",
    "            num = l1.val + l2.val +  carry\n",
    "            l3.next = ListNode(num % 10)\n",
    "            carry = num // 10\n",
    "            \n",
    "            l1 = l1.next\n",
    "            l2 = l2.next\n",
    "            l3 = l3.next\n",
    "        \n",
    "        while(l1):\n",
    "            num = l1.val + carry\n",
    "            l3.next = ListNode(num % 10)\n",
    "            carry = num // 10\n",
    "            \n",
    "            l1 = l1.next\n",
    "            l3 = l3.next\n",
    "        while(l2):\n",
    "            num = l2.val +  carry\n",
    "            l3.next = ListNode(num % 10)\n",
    "            carry = num // 10\n",
    "            \n",
    "            l2 = l2.next\n",
    "            l3 = l3.next\n",
    "        if (carry > 0):\n",
    "            l3.next = ListNode(carry)\n",
    "        \n",
    "        return head.next\n",
    "            "
   ]
  },
  {
   "cell_type": "code",
   "execution_count": 3,
   "metadata": {},
   "outputs": [],
   "source": [
    "#Unit Testing\n",
    "h1 = l1 = ListNode(0)\n",
    "h2 = l2=  ListNode(0)\n",
    "for i in range(2):\n",
    "    l1.next = ListNode(9)\n",
    "    l1 = l1.next   \n",
    "for i in range(3):\n",
    "    l1.next = ListNode(i)\n",
    "    l2.next = ListNode(i + 1)\n",
    "    l1 = l1.next\n",
    "    l2 = l2.next\n",
    "\n",
    "Sol = Solution()\n",
    "l3 = Sol.addTwoNumbers(h1.next, h2.next)\n",
    "#l3.printList()\n",
    "#print(\"L1 list is \")\n",
    "#h1.printList()\n"
   ]
  },
  {
   "cell_type": "code",
   "execution_count": null,
   "metadata": {},
   "outputs": [],
   "source": []
  },
  {
   "cell_type": "code",
   "execution_count": 25,
   "metadata": {},
   "outputs": [
    {
     "data": {
      "text/plain": [
       "dict"
      ]
     },
     "execution_count": 25,
     "metadata": {},
     "output_type": "execute_result"
    }
   ],
   "source": [
    "a = {\"c\":2, \"a\": 3}\n",
    "b = {\"a\":3, \"c\":1}\n",
    "type(a)"
   ]
  },
  {
   "cell_type": "code",
   "execution_count": 15,
   "metadata": {},
   "outputs": [
    {
     "name": "stdout",
     "output_type": "stream",
     "text": [
      "dict_keys(['c'])\n"
     ]
    }
   ],
   "source": [
    "print(a.keys())"
   ]
  },
  {
   "cell_type": "code",
   "execution_count": 22,
   "metadata": {},
   "outputs": [
    {
     "data": {
      "text/plain": [
       "True"
      ]
     },
     "execution_count": 22,
     "metadata": {},
     "output_type": "execute_result"
    }
   ],
   "source": [
    "\"c\" in a.keys()"
   ]
  },
  {
   "cell_type": "code",
   "execution_count": 26,
   "metadata": {},
   "outputs": [
    {
     "data": {
      "text/plain": [
       "False"
      ]
     },
     "execution_count": 26,
     "metadata": {},
     "output_type": "execute_result"
    }
   ],
   "source": [
    "a == b"
   ]
  },
  {
   "cell_type": "code",
   "execution_count": 29,
   "metadata": {},
   "outputs": [
    {
     "data": {
      "text/plain": [
       "dict_values([2, 3])"
      ]
     },
     "execution_count": 29,
     "metadata": {},
     "output_type": "execute_result"
    }
   ],
   "source": [
    "a.values()"
   ]
  },
  {
   "cell_type": "markdown",
   "metadata": {},
   "source": [
    "# 242 - Valid Anagram (Easy)\n",
    "## Given two strings s and t , write a function to determine if t is an anagram of s.\n",
    "https://leetcode.com/problems/valid-anagram/\n",
    "## Example 1:\n",
    "\n",
    "Input: s = \"anagram\", t = \"nagaram\"\n",
    "Output: true\n",
    "Example 2:\n",
    "\n",
    "Input: s = \"rat\", t = \"car\"\n",
    "Output: false\n",
    "Note:\n",
    "You may assume the string contains only lowercase alphabets.\n",
    "\n",
    "## Follow up:\n",
    "What if the inputs contain unicode characters? How would you adapt your solution to such case?"
   ]
  },
  {
   "cell_type": "code",
   "execution_count": 30,
   "metadata": {},
   "outputs": [],
   "source": [
    "class Solution:\n",
    "    def isAnagram(self, s: str, t: str) -> bool:\n",
    "        letterFrequency1 = {}\n",
    "        letterFrequency2 = {} # For getting frequency of each letter in the string\n",
    "        \n",
    "        for i in range(len(s)):\n",
    "            if s[i] in letterFrequency1.keys():\n",
    "                letterFrequency1[s[i]]  += 1\n",
    "            else:\n",
    "                letterFrequency1[s[i]] = 1\n",
    "        for i in range(len(t)):\n",
    "            if t[i] in letterFrequency2.keys():\n",
    "                letterFrequency2[t[i]]  +=1\n",
    "            else:\n",
    "                letterFrequency2[t[i]]  = 1\n",
    "        return letterFrequency1 == letterFrequency2\n",
    "                "
   ]
  },
  {
   "cell_type": "code",
   "execution_count": 39,
   "metadata": {},
   "outputs": [
    {
     "name": "stdout",
     "output_type": "stream",
     "text": [
      "using counter\n",
      "True\n",
      "using counter\n",
      "False\n",
      "using counter\n",
      "True\n"
     ]
    }
   ],
   "source": [
    "# Unit testing\n",
    "sol = Solution()\n",
    "s = \"Lokesh\"\n",
    "t = \"hseLok\"\n",
    "print(sol.isAnagram(s,t))\n",
    "\n",
    "s = \"Lokesh\"\n",
    "t = \"hseLok1\"\n",
    "print(sol.isAnagram(s,t))\n",
    "\n",
    "s = \"\"\n",
    "t = \"\"\n",
    "print(sol.isAnagram(s,t))"
   ]
  },
  {
   "cell_type": "code",
   "execution_count": 38,
   "metadata": {},
   "outputs": [],
   "source": [
    "# Another Solution Using Collections\n",
    "\n",
    "from collections import Counter\n",
    "class Solution:\n",
    "    def isAnagram(self, s: str, t: str) -> bool:\n",
    "        print(\"using counter\")\n",
    "        return Counter(s) == Counter(t)\n",
    "      \n",
    "                "
   ]
  },
  {
   "cell_type": "code",
   "execution_count": null,
   "metadata": {},
   "outputs": [],
   "source": []
  }
 ],
 "metadata": {
  "kernelspec": {
   "display_name": "Python 3",
   "language": "python",
   "name": "python3"
  },
  "language_info": {
   "codemirror_mode": {
    "name": "ipython",
    "version": 3
   },
   "file_extension": ".py",
   "mimetype": "text/x-python",
   "name": "python",
   "nbconvert_exporter": "python",
   "pygments_lexer": "ipython3",
   "version": "3.7.4"
  }
 },
 "nbformat": 4,
 "nbformat_minor": 2
}
